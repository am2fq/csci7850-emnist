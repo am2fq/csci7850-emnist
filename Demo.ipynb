{
 "cells": [
  {
   "cell_type": "code",
   "execution_count": 3,
   "id": "1d863726-c5ba-42a5-be76-803e2bec90fa",
   "metadata": {},
   "outputs": [],
   "source": [
    "import numpy as np\n",
    "from mnist.loader import MNIST\n",
    "from sklearn.preprocessing import MinMaxScaler, StandardScaler\n",
    "import math\n",
    "from matplotlib import pyplot as plt\n",
    "import tensorflow as tf\n",
    "import tensorflow.keras as keras\n",
    "from keras.preprocessing.image import ImageDataGenerator\n",
    "data = MNIST('input')\n",
    "import os\n",
    "os.environ['TF_CPP_MIN_LOG_LEVEL'] = '2'\n",
    "import wget\n",
    "import random as rn"
   ]
  },
  {
   "cell_type": "code",
   "execution_count": 4,
   "id": "21e0a625-0c50-4c0a-a140-993d5ad45dde",
   "metadata": {},
   "outputs": [
    {
     "data": {
      "text/plain": [
       "[PhysicalDevice(name='/physical_device:CPU:0', device_type='CPU')]"
      ]
     },
     "execution_count": 4,
     "metadata": {},
     "output_type": "execute_result"
    }
   ],
   "source": [
    "devices = tf.config.get_visible_devices()\n",
    "devices"
   ]
  },
  {
   "cell_type": "markdown",
   "id": "a4e9dc2a-9c32-4898-947d-d64a2f017f4c",
   "metadata": {},
   "source": [
    "<center><span style=\"color:blue\"><b>-----------------------------</b\n",
    "    ></span></center>\n",
    "<center><span style=\"color:blue\"><b>1 ) Data Preparation</b\n",
    "    ></span></center>\n",
    "    <center><span style=\"color:blue\"><b>-----------------------------</b\n",
    "    ></span></center>"
   ]
  },
  {
   "cell_type": "markdown",
   "id": "66e92f90-6cec-44b7-bb41-734af41a81cf",
   "metadata": {},
   "source": [
    "<span style=\"color:Grey\"><b>a) URLs</b\n",
    "    ></span>"
   ]
  },
  {
   "cell_type": "code",
   "execution_count": 5,
   "id": "daf7b80c-0ac5-4090-8ed6-6c4000f214d7",
   "metadata": {},
   "outputs": [],
   "source": [
    "train_im_url='https://csci7850-emnist.nyc3.digitaloceanspaces.com/emnist-balanced-train-images-idx3-ubyte'\n",
    "train_labels_url='https://csci7850-emnist.nyc3.digitaloceanspaces.com/emnist-balanced-train-labels-idx1-ubyte'\n",
    "test_im_url=\"https://csci7850-emnist.nyc3.digitaloceanspaces.com/emnist-balanced-test-images-idx3-ubyte\"\n",
    "test_labels_url=\"https://csci7850-emnist.nyc3.digitaloceanspaces.com/emnist-balanced-test-labels-idx1-ubyte\""
   ]
  },
  {
   "cell_type": "markdown",
   "id": "5d82fe16-e3b5-457b-afa5-5da344d5f8cc",
   "metadata": {},
   "source": [
    "<span style=\"color:Grey\"><b>b) Download</b\n",
    "    ></span>"
   ]
  },
  {
   "cell_type": "code",
   "execution_count": 6,
   "id": "cca548c7-43db-494e-97a7-4763b972f5a6",
   "metadata": {},
   "outputs": [],
   "source": [
    "train_images = wget.download(train_im_url)\n",
    "train_labels_url = wget.download(train_labels_url)\n",
    "test_im_url = wget.download(test_im_url)\n",
    "test_labels_url = wget.download(test_labels_url)"
   ]
  },
  {
   "cell_type": "markdown",
   "id": "e7a1891f-df1a-4287-b840-2059cef879be",
   "metadata": {},
   "source": [
    "<span style=\"color:Grey\"><b>c) Data Normalization</b\n",
    "    ></span>"
   ]
  },
  {
   "cell_type": "code",
   "execution_count": 7,
   "id": "1a0f796f-6ab7-49f2-a522-65c5f378b8e5",
   "metadata": {},
   "outputs": [],
   "source": [
    "x_train, y_train = data.load(train_images,\n",
    "                                   train_labels_url)\n",
    "x_test, y_test = data.load(test_im_url,\n",
    "                                 test_labels_url)\n",
    "x_train = np.array(x_train)\n",
    "x_test = np.array(x_test)\n",
    "y_train = np.array(y_train)\n",
    "y_test = np.array(y_test)\n",
    "def Normalize(x, MinMax = False, Std = False):\n",
    "    pixel_size = int(math.sqrt(x.shape[1]))\n",
    "    if MinMax == True:\n",
    "        scaler = MinMaxScaler()\n",
    "        x_train_minmax = scaler.fit_transform(x)\n",
    "        return x_train_minmax.reshape(x_train_minmax.shape[0], #112800\n",
    "                          pixel_size, #28\n",
    "                          pixel_size, #28\n",
    "                          1)\n",
    "    elif Std == True:\n",
    "        std = StandardScaler()\n",
    "        x_train_std = std.fit_transform(x)\n",
    "        return x_train_std.reshape(x_train_std.shape[0], \n",
    "                          pixel_size, #28\n",
    "                          pixel_size, #28\n",
    "                          1)\n",
    "x_train_std = Normalize(x_train, MinMax = False, Std =True)\n",
    "x_test_std = Normalize(x_test, MinMax = False, Std =True)\n",
    "x_train_minmax = Normalize(x_train, MinMax = True, Std =False)\n",
    "x_test_minmax = Normalize(x_test, MinMax = True, Std =False)\n",
    "y_train=y_train.reshape(y_train.shape[0],1)\n",
    "y_test=y_test.reshape(y_test.shape[0],1)"
   ]
  },
  {
   "cell_type": "code",
   "execution_count": 8,
   "id": "6c6246dc-1561-4b66-8d3d-32947cdb0d8b",
   "metadata": {},
   "outputs": [
    {
     "name": "stdout",
     "output_type": "stream",
     "text": [
      "x_train_minmax=(112800, 28, 28, 1)\n",
      "y_train=(112800, 1)\n",
      "x_test_minmax=(18800, 28, 28, 1)\n",
      "y_test=(18800, 1)\n"
     ]
    }
   ],
   "source": [
    "print('x_train_minmax' + '=' + str(x_train_minmax.shape))\n",
    "print('y_train' + '=' + str(y_train.shape))\n",
    "print('x_test_minmax' + '=' + str(x_test_minmax.shape))\n",
    "print('y_test' + '=' + str(y_test.shape))"
   ]
  },
  {
   "cell_type": "markdown",
   "id": "0c6c3161-4f36-40f1-bb61-e0b61f0dbc80",
   "metadata": {},
   "source": [
    "<center><span style=\"color:blue\"><b>-----------------------------</b\n",
    "    ></span></center>\n",
    "<center><span style=\"color:blue\"><b>2) View Data</b\n",
    "    ></span></center>\n",
    "<center><span style=\"color:blue\"><b>-----------------------------</b\n",
    "    ></span></center>"
   ]
  },
  {
   "cell_type": "code",
   "execution_count": 9,
   "id": "4518da66-b6e3-454f-b6af-de4d144f758a",
   "metadata": {},
   "outputs": [
    {
     "data": {
      "image/png": "[encoded data removed]",
      "text/plain": [
       "<Figure size 432x288 with 10 Axes>"
      ]
     },
     "metadata": {
      "needs_background": "light"
     },
     "output_type": "display_data"
    }
   ],
   "source": [
    "num=0\n",
    "for im in rn.sample(range(0, 112800), 10):\n",
    "    num = num+1\n",
    "    plt.subplot(2,5,num)\n",
    "    plt.axis('off')\n",
    "    plt.imshow(x_train[im:im+1].reshape(28,28))"
   ]
  },
  {
   "cell_type": "markdown",
   "id": "8f60f0b6-6b7a-452d-b13a-7094ec89bcf8",
   "metadata": {},
   "source": [
    "<center><span style=\"color:blue\"><b>-----------------------------</b\n",
    "    ></span></center>\n",
    "<center><span style=\"color:blue\"><b>3)Model Creation</b\n",
    "    ></span></center>\n",
    "<center><span style=\"color:blue\"><b>-----------------------------</b\n",
    "    ></span></center>"
   ]
  },
  {
   "cell_type": "markdown",
   "id": "7ba934ce-9d8e-4ac9-ade8-608ab1fdb2e8",
   "metadata": {},
   "source": [
    "<span style=\"color:Blue\"><b>a) Resnet50v2</b\n",
    "    ></span>"
   ]
  },
  {
   "cell_type": "code",
   "execution_count": 10,
   "id": "6d08379e-8b85-48dd-9443-1b9a039750c6",
   "metadata": {},
   "outputs": [],
   "source": [
    "x = keras.layers.Input(shape=x_train_minmax.shape[1:])\n",
    "y=x\n",
    "y = keras.layers.Conv2DTranspose(1,(2,2),2)(y)\n",
    "#y = keras.layers.Conv2DTranspose(3,(4,4),4)(y)\n",
    "resnet = keras.applications.ResNet50V2(weights=None, classes=len(np.unique(y_train))\n",
    "                                       , input_shape=y.shape[1:])\n",
    "y = resnet(y)\n",
    "Resnet_model = keras.Model(x,y)\n",
    "Resnet_model.compile(optimizer=keras.optimizers.Adam(learning_rate=0.000025),\n",
    "loss=keras.losses.SparseCategoricalCrossentropy(),\n",
    "metrics=[keras.metrics.SparseCategoricalAccuracy()]) "
   ]
  },
  {
   "cell_type": "code",
   "execution_count": 11,
   "id": "42069e34-9f9a-468a-a913-28fdeafa03ce",
   "metadata": {},
   "outputs": [
    {
     "name": "stdout",
     "output_type": "stream",
     "text": [
      "Model: \"model\"\n",
      "_________________________________________________________________\n",
      " Layer (type)                Output Shape              Param #   \n",
      "=================================================================\n",
      " input_1 (InputLayer)        [(None, 28, 28, 1)]       0         \n",
      "                                                                 \n",
      " conv2d_transpose (Conv2DTra  (None, 56, 56, 1)        5         \n",
      " nspose)                                                         \n",
      "                                                                 \n",
      " resnet50v2 (Functional)     (None, 47)                23654831  \n",
      "                                                                 \n",
      "=================================================================\n",
      "Total params: 23,654,836\n",
      "Trainable params: 23,609,396\n",
      "Non-trainable params: 45,440\n",
      "_________________________________________________________________\n"
     ]
    }
   ],
   "source": [
    "Resnet_model.summary()"
   ]
  },
  {
   "cell_type": "code",
   "execution_count": 12,
   "id": "cd2a4852-4c0e-437d-898f-6fa85ab9f98e",
   "metadata": {},
   "outputs": [],
   "source": [
    "# history = model.fit(x_train_minmax,y_train,\n",
    "#                         validation_split=0.2,\n",
    "#                         epochs=6,\n",
    "#                         verbose=1)"
   ]
  },
  {
   "cell_type": "markdown",
   "id": "caa7aab4-0a91-4a49-9f2e-2b45e05f45cd",
   "metadata": {},
   "source": [
    "<h><span style=\"color:Blue\"><b>b) Custom Model</b\n",
    "    ></span></h>"
   ]
  },
  {
   "cell_type": "code",
   "execution_count": 13,
   "id": "1db5033e-d2cd-4671-9289-75eb14daaa03",
   "metadata": {},
   "outputs": [],
   "source": [
    "x = keras.layers.Input(shape=x_train_minmax.shape[1:])\n",
    "y=x\n",
    "y=keras.layers.Conv2D(filters = 512,kernel_size = 5\n",
    "                      , padding='valid', \n",
    "                      activation ='relu',\n",
    "                                 name = 'Conv_1')(y)\n",
    "\n",
    "y=keras.layers.MaxPooling2D(pool_size=2, strides=2, name='pool_1')(y)\n",
    "y = keras.layers.BatchNormalization()(y)\n",
    "#------------------------------------------------------------------------------#\n",
    "y=keras.layers.Conv2D(filters = 512,kernel_size = 5, \n",
    "                       padding='valid', \n",
    "                       activation ='relu',\n",
    "                                  name = 'Conv_2')(y)\n",
    "y = keras.layers.BatchNormalization()(y)\n",
    "#y=keras.layers.MaxPooling2D(pool_size=2, strides=2, name='pool_2')(y)\n",
    "\n",
    "#------------------------------------------------------------------------------#\n",
    "y=keras.layers.Conv2D(filters = 1024,kernel_size = 3, \n",
    "                       padding='valid', \n",
    "                       activation ='relu',\n",
    "                                  name = 'Conv_3')(y)\n",
    "#------------------------------------------------------------------------------#\n",
    "y = keras.layers.GlobalAveragePooling2D(name='avg_pool')(y)\n",
    "y=keras.layers.Dropout(0.1)(y)\n",
    "y = keras.layers.Dense(188, activation='relu')(y)\n",
    "y = keras.layers.Dense(188, activation='relu')(y)\n",
    "y = keras.layers.Dense(188, activation='relu')(y)\n",
    "\n",
    "y = keras.layers.Dense(len(np.unique(y_train)), activation='softmax', name='predictions')(y)\n",
    "model = keras.Model(x,y, name='EMNIST')\n",
    "model.compile(optimizer=keras.optimizers.Adam(learning_rate=0.00001),\n",
    "loss=keras.losses.SparseCategoricalCrossentropy(),\n",
    "metrics=[keras.metrics.SparseCategoricalAccuracy()])"
   ]
  },
  {
   "cell_type": "code",
   "execution_count": 14,
   "id": "3f0c987b-7db7-464f-8d42-e4e494d528b9",
   "metadata": {},
   "outputs": [
    {
     "name": "stdout",
     "output_type": "stream",
     "text": [
      "Model: \"EMNIST\"\n",
      "_________________________________________________________________\n",
      " Layer (type)                Output Shape              Param #   \n",
      "=================================================================\n",
      " input_3 (InputLayer)        [(None, 28, 28, 1)]       0         \n",
      "                                                                 \n",
      " Conv_1 (Conv2D)             (None, 24, 24, 512)       13312     \n",
      "                                                                 \n",
      " pool_1 (MaxPooling2D)       (None, 12, 12, 512)       0         \n",
      "                                                                 \n",
      " batch_normalization (BatchN  (None, 12, 12, 512)      2048      \n",
      " ormalization)                                                   \n",
      "                                                                 \n",
      " Conv_2 (Conv2D)             (None, 8, 8, 512)         6554112   \n",
      "                                                                 \n",
      " batch_normalization_1 (Batc  (None, 8, 8, 512)        2048      \n",
      " hNormalization)                                                 \n",
      "                                                                 \n",
      " Conv_3 (Conv2D)             (None, 6, 6, 1024)        4719616   \n",
      "                                                                 \n",
      " avg_pool (GlobalAveragePool  (None, 1024)             0         \n",
      " ing2D)                                                          \n",
      "                                                                 \n",
      " dropout (Dropout)           (None, 1024)              0         \n",
      "                                                                 \n",
      " dense (Dense)               (None, 188)               192700    \n",
      "                                                                 \n",
      " dense_1 (Dense)             (None, 188)               35532     \n",
      "                                                                 \n",
      " dense_2 (Dense)             (None, 188)               35532     \n",
      "                                                                 \n",
      " predictions (Dense)         (None, 47)                8883      \n",
      "                                                                 \n",
      "=================================================================\n",
      "Total params: 11,563,783\n",
      "Trainable params: 11,561,735\n",
      "Non-trainable params: 2,048\n",
      "_________________________________________________________________\n"
     ]
    }
   ],
   "source": [
    "model.summary()"
   ]
  },
  {
   "cell_type": "code",
   "execution_count": 15,
   "id": "6a31eba6-2009-499d-8469-3e7ff3dd81e8",
   "metadata": {},
   "outputs": [],
   "source": [
    "# history = model.fit(x_train_minmax,y_train,\n",
    "#                         validation_split=0.2,\n",
    "#                         epochs=6,\n",
    "#                         verbose=1)"
   ]
  },
  {
   "cell_type": "markdown",
   "id": "854df506-e762-4f27-a579-407cd43901c2",
   "metadata": {},
   "source": [
    "<span style=\"color:blue\"><b>c)MobileNetV2</b\n",
    "    ></span>"
   ]
  },
  {
   "cell_type": "code",
   "execution_count": 16,
   "id": "c8412454-a92e-443a-90de-b6d0011f66e6",
   "metadata": {},
   "outputs": [],
   "source": [
    "x = keras.layers.Input(shape=x_train_minmax.shape[1:])\n",
    "y=x\n",
    "#y = keras.layers.Conv2DTranspose(1,(2,2),2)(y)\n",
    "y = keras.layers.Conv2DTranspose(3,(4,4),4)(y)\n",
    "mobile = keras.applications.MobileNetV2(weights=None, classes=len(np.unique(y_train))\n",
    "                                       , input_shape=y.shape[1:])\n",
    "y = mobile(y)\n",
    "model = keras.Model(x,y,name=\"MobileNet\")\n",
    "model.compile(optimizer=keras.optimizers.Adam(learning_rate=0.000025),\n",
    "loss=keras.losses.SparseCategoricalCrossentropy(),\n",
    "metrics=[keras.metrics.SparseCategoricalAccuracy()])  "
   ]
  },
  {
   "cell_type": "code",
   "execution_count": 17,
   "id": "b56686cc-3c4d-40ae-9ca6-479dd341aa6b",
   "metadata": {},
   "outputs": [
    {
     "name": "stdout",
     "output_type": "stream",
     "text": [
      "Model: \"MobileNet\"\n",
      "_________________________________________________________________\n",
      " Layer (type)                Output Shape              Param #   \n",
      "=================================================================\n",
      " input_4 (InputLayer)        [(None, 28, 28, 1)]       0         \n",
      "                                                                 \n",
      " conv2d_transpose_1 (Conv2DT  (None, 112, 112, 3)      51        \n",
      " ranspose)                                                       \n",
      "                                                                 \n",
      " mobilenetv2_1.00_112 (Funct  (None, 47)               2318191   \n",
      " ional)                                                          \n",
      "                                                                 \n",
      "=================================================================\n",
      "Total params: 2,318,242\n",
      "Trainable params: 2,284,130\n",
      "Non-trainable params: 34,112\n",
      "_________________________________________________________________\n"
     ]
    }
   ],
   "source": [
    "model.summary()"
   ]
  },
  {
   "cell_type": "code",
   "execution_count": 18,
   "id": "aa7c0cc8-496f-4cc6-b9fb-a0ce4d31453e",
   "metadata": {},
   "outputs": [],
   "source": [
    "# history = model.fit(x_train_minmax,y_train,\n",
    "#                         validation_split=0.2,\n",
    "#                         epochs=6,\n",
    "#                         verbose=1)"
   ]
  },
  {
   "cell_type": "markdown",
   "id": "53d00536-ad1f-4b55-95d2-83efde6102a4",
   "metadata": {},
   "source": [
    "<center><span style=\"color:blue\"><b>--------------------------------------</b\n",
    "    ></span></center>\n",
    "<center><span style=\"color:blue\"><b>4)Data Augmentation on test set</b\n",
    "    ></span></center>\n",
    "    <center><span style=\"color:blue\">--------------------------------------</span></center>"
   ]
  },
  {
   "cell_type": "code",
   "execution_count": 19,
   "id": "dc53cc90-5eb2-460e-a56c-de15ac35fdc3",
   "metadata": {},
   "outputs": [],
   "source": [
    "data_generator = ImageDataGenerator(\n",
    "                    width_shift_range=0.1,\n",
    "                    height_shift_range=0.1,\n",
    "                    rotation_range=20,\n",
    "                    zoom_range=0.2,\n",
    "                    #horizontal_flip=True)\n",
    "    )\n",
    "\n",
    "dg_trainer = data_generator.flow(x_test_minmax, y_test, batch_size=32)"
   ]
  },
  {
   "cell_type": "markdown",
   "id": "6568cd03-0250-4a91-80c8-60d09c434411",
   "metadata": {},
   "source": [
    "<center><span style=\"color:blue\"><b>--------------------------------------</b\n",
    "    ></span></center>\n",
    "<center><span style=\"color:blue\"><b>5)Downloading Pre-trained Models</b\n",
    "    ></span></center>\n",
    "    <center><span style=\"color:blue\">--------------------------------------</span></center>"
   ]
  },
  {
   "cell_type": "markdown",
   "id": "ef4f9d90-9cd9-467c-9ac9-7a74109e193b",
   "metadata": {},
   "source": [
    "<span style=\"color:brown\"><b>a)Custom Model</b\n",
    "    ></span>"
   ]
  },
  {
   "cell_type": "markdown",
   "id": "8f7b278f-6608-467d-9fe0-e550e1c173a6",
   "metadata": {},
   "source": [
    "<span style=\"color:black\"><b>#Architecture</b\n",
    "    ></span>"
   ]
  },
  {
   "cell_type": "code",
   "execution_count": 20,
   "id": "e23ed77c-2a75-4927-8c5f-5194f72a3392",
   "metadata": {},
   "outputs": [],
   "source": [
    "mymodel_arch_URL = 'https://csci7850-emnist.nyc3.digitaloceanspaces.com/mymodel_wo_DA_arch.json'\n",
    "mymodel_arch = wget.download(mymodel_arch_URL)\n",
    "with open(mymodel_arch,\"r\") as json_file:\n",
    "    Custom_model = keras.models.model_from_json(json_file.read())\n",
    "Custom_model.compile(optimizer=keras.optimizers.Adam(learning_rate=0.00001),\n",
    "loss=keras.losses.SparseCategoricalCrossentropy(),\n",
    "metrics=[keras.metrics.SparseCategoricalAccuracy()])"
   ]
  },
  {
   "cell_type": "markdown",
   "id": "9b0fbc90-dbe7-418a-a9cd-75564ff4f2d8",
   "metadata": {},
   "source": [
    "<span style=\"color:black\"><b>#Weights without Data Augmentation</b\n",
    "    ></span>"
   ]
  },
  {
   "cell_type": "code",
   "execution_count": 21,
   "id": "c730f6a1-78ff-48fa-bb38-15b558f7125b",
   "metadata": {},
   "outputs": [],
   "source": [
    "mymodel_wo_DA_URL = 'https://csci7850-emnist.nyc3.digitaloceanspaces.com/mymodel_wo_DA_weights.h5'\n",
    "mymodel_wo_DA_weights = wget.download(mymodel_wo_DA_URL)\n",
    "Custom_model.load_weights(mymodel_wo_DA_weights)"
   ]
  },
  {
   "cell_type": "code",
   "execution_count": 22,
   "id": "b424d7ef-b310-48e7-b9cc-e29a09cdaa2d",
   "metadata": {},
   "outputs": [
    {
     "name": "stdout",
     "output_type": "stream",
     "text": [
      "588/588 [==============================] - 32s 54ms/step - loss: 0.7732 - sparse_categorical_accuracy: 0.7466\n"
     ]
    }
   ],
   "source": [
    "score_model_wo_DA=Custom_model.evaluate(dg_trainer, verbose=1)"
   ]
  },
  {
   "cell_type": "markdown",
   "id": "26e20cf6-4583-4f2c-9736-a85b3865e043",
   "metadata": {},
   "source": [
    "<span style=\"color:black\"><b>#Weights with Augmentation</b\n",
    "    ></span>"
   ]
  },
  {
   "cell_type": "code",
   "execution_count": 23,
   "id": "157106d8-2175-4270-8fc0-26e49a1217f9",
   "metadata": {},
   "outputs": [],
   "source": [
    "mymodel_DA_URL = 'https://csci7850-emnist.nyc3.digitaloceanspaces.com/mymodel_with_DA_weights.h5'\n",
    "mymodel_DA_weights = wget.download(mymodel_DA_URL)\n",
    "Custom_model.load_weights(mymodel_DA_weights)"
   ]
  },
  {
   "cell_type": "code",
   "execution_count": 24,
   "id": "ba7d0bda-5bff-4b38-b606-63069c1f66bc",
   "metadata": {},
   "outputs": [
    {
     "name": "stdout",
     "output_type": "stream",
     "text": [
      "588/588 [==============================] - 32s 55ms/step - loss: 0.3657 - sparse_categorical_accuracy: 0.8696\n"
     ]
    }
   ],
   "source": [
    "score_model_DA=Custom_model.evaluate(dg_trainer, verbose=1)"
   ]
  },
  {
   "cell_type": "markdown",
   "id": "7803ed25-5b5a-4f3c-bf4a-6514ab3c6cca",
   "metadata": {},
   "source": [
    "<span style=\"color:brown\"><b>b)Resnet50v2</b\n",
    "    ></span>"
   ]
  },
  {
   "cell_type": "markdown",
   "id": "87e2d2fa-8eea-4c2b-826f-5915b6b94d96",
   "metadata": {},
   "source": [
    "<span style=\"color:black\"><b>#Architecture</b\n",
    "    ></span>"
   ]
  },
  {
   "cell_type": "code",
   "execution_count": 25,
   "id": "1623d1ff-54a0-4004-bd88-5c55654aab32",
   "metadata": {},
   "outputs": [],
   "source": [
    "res_arch_URL = 'https://csci7850-emnist.nyc3.digitaloceanspaces.com/resnet_wo_DA_arch.json'\n",
    "resnet_arch = wget.download(res_arch_URL)\n",
    "with open(resnet_arch,\"r\") as json_file:\n",
    "    Resnet_model = keras.models.model_from_json(json_file.read())\n",
    "Resnet_model.compile(optimizer=keras.optimizers.Adam(learning_rate=0.000025),\n",
    "loss=keras.losses.SparseCategoricalCrossentropy(),\n",
    "metrics=[keras.metrics.SparseCategoricalAccuracy()]) "
   ]
  },
  {
   "cell_type": "markdown",
   "id": "4478c023-9a6e-4fdd-9cb0-8da54cb6ec53",
   "metadata": {},
   "source": [
    "<span style=\"color:black\"><b>#Weights without Data Augmentation</b\n",
    "    ></span>"
   ]
  },
  {
   "cell_type": "code",
   "execution_count": 26,
   "id": "49f29790-6356-4f61-80c3-25712483d118",
   "metadata": {},
   "outputs": [],
   "source": [
    "res_wo_DA_URL = 'https://csci7850-emnist.nyc3.digitaloceanspaces.com/resnet_wo_DA_weights.h5'\n",
    "resnet_wo_DA_weights = wget.download(res_wo_DA_URL)\n",
    "Resnet_model.load_weights(resnet_wo_DA_weights)"
   ]
  },
  {
   "cell_type": "code",
   "execution_count": 27,
   "id": "d28aa986-fc76-45bd-a887-aa83610f4e68",
   "metadata": {},
   "outputs": [
    {
     "name": "stdout",
     "output_type": "stream",
     "text": [
      "588/588 [==============================] - 47s 78ms/step - loss: 0.7597 - sparse_categorical_accuracy: 0.7586\n"
     ]
    }
   ],
   "source": [
    "#score_res_wo_DA=Resnet_model.evaluate(x_test_minmax, y_test, verbose=1)\n",
    "score_res_wo_DA=Resnet_model.evaluate(dg_trainer, verbose=1)\n"
   ]
  },
  {
   "cell_type": "markdown",
   "id": "ef3ec0a8-cb90-4d48-b700-0b1b78bd8019",
   "metadata": {},
   "source": [
    "<span style=\"color:black\"><b>#Weights with Augmentation</b\n",
    "    ></span>"
   ]
  },
  {
   "cell_type": "code",
   "execution_count": 28,
   "id": "c5858963-f7d0-459a-82c2-dd3293711932",
   "metadata": {},
   "outputs": [],
   "source": [
    "res_DA_URL = 'https://csci7850-emnist.nyc3.digitaloceanspaces.com/resnet_with_DA_weights.h5'\n",
    "resnet_DA_weights = wget.download(res_DA_URL)\n",
    "Resnet_model.load_weights(resnet_DA_weights)"
   ]
  },
  {
   "cell_type": "code",
   "execution_count": 29,
   "id": "a294a36a-55ce-4b5d-b287-9b95d28db8e4",
   "metadata": {},
   "outputs": [
    {
     "name": "stdout",
     "output_type": "stream",
     "text": [
      "588/588 [==============================] - 46s 78ms/step - loss: 0.3244 - sparse_categorical_accuracy: 0.8818\n"
     ]
    }
   ],
   "source": [
    "score_res_DA=Resnet_model.evaluate(dg_trainer, verbose=1)"
   ]
  },
  {
   "cell_type": "markdown",
   "id": "361a9cbb-0496-4dd6-96c8-d80d8510cda2",
   "metadata": {},
   "source": [
    "<span style=\"color:brown\"><b>c)MobileNetV2</b\n",
    "    ></span>"
   ]
  },
  {
   "cell_type": "markdown",
   "id": "0dea2927-30b8-4dfa-9c6a-56b1f38c4dce",
   "metadata": {},
   "source": [
    "<span style=\"color:black\"><b>#Architecture with weights (Without Data Augmentation</b\n",
    "    ></span>"
   ]
  },
  {
   "cell_type": "code",
   "execution_count": 30,
   "id": "102af619-698d-4765-8de9-834583d234ff",
   "metadata": {},
   "outputs": [],
   "source": [
    "Mobilenet_arch_URL = 'https://csci7850-emnist.nyc3.digitaloceanspaces.com/mobilenet_scratch_wo_daug.h5'\n",
    "Mobilenet_arch = wget.download(Mobilenet_arch_URL)\n",
    "Mobilenet = keras.models.load_model(Mobilenet_arch)\n",
    "Mobilenet.compile(optimizer=keras.optimizers.Adam(learning_rate=0.000025),\n",
    "loss=keras.losses.SparseCategoricalCrossentropy(),\n",
    "metrics=[keras.metrics.SparseCategoricalAccuracy()])"
   ]
  },
  {
   "cell_type": "code",
   "execution_count": 31,
   "id": "8a304578-6da5-4139-92e2-cf73dc5cb76c",
   "metadata": {},
   "outputs": [
    {
     "name": "stdout",
     "output_type": "stream",
     "text": [
      "588/588 [==============================] - 36s 60ms/step - loss: 1.1877 - sparse_categorical_accuracy: 0.6763\n"
     ]
    }
   ],
   "source": [
    "score_mobilenet_wo_DA=Mobilenet.evaluate(dg_trainer, verbose=1)"
   ]
  },
  {
   "cell_type": "markdown",
   "id": "1a0e0fe9-cf92-4284-b0f1-2b895aedee91",
   "metadata": {},
   "source": [
    "<span style=\"color:black\"><b>#Architecture with weights (With Data Augmentation)</b\n",
    "    ></span>"
   ]
  },
  {
   "cell_type": "code",
   "execution_count": 32,
   "id": "9db1f50b-940f-49ac-bcf6-cf5464ba8821",
   "metadata": {},
   "outputs": [],
   "source": [
    "Mobilenet_arch_URL = 'https://csci7850-emnist.nyc3.digitaloceanspaces.com/mobilenet_scratch_with_daug.h5'\n",
    "Mobilenet_arch = wget.download(Mobilenet_arch_URL)\n",
    "Mobilenet = keras.models.load_model(Mobilenet_arch)\n",
    "Mobilenet.compile(optimizer=keras.optimizers.Adam(learning_rate=0.000025),\n",
    "loss=keras.losses.SparseCategoricalCrossentropy(),\n",
    "metrics=[keras.metrics.SparseCategoricalAccuracy()])"
   ]
  },
  {
   "cell_type": "code",
   "execution_count": 34,
   "id": "220a6523-1797-41f5-9ebd-327056df972a",
   "metadata": {},
   "outputs": [
    {
     "name": "stdout",
     "output_type": "stream",
     "text": [
      "588/588 [==============================] - 36s 61ms/step - loss: 0.3887 - sparse_categorical_accuracy: 0.8640\n"
     ]
    }
   ],
   "source": [
    "score_mobilenet_DA=Mobilenet.evaluate(dg_trainer, verbose=1)"
   ]
  },
  {
   "cell_type": "markdown",
   "id": "db697550-e688-4bd0-b581-52aabadccbf7",
   "metadata": {},
   "source": [
    "<center><span style=\"color:blue\"><b>--------------------------------------</b\n",
    "    ></span></center>\n",
    "<center><span style=\"color:blue\"><b>6)Comparison among the models</b\n",
    "    ></span></center>\n",
    "    <center><span style=\"color:blue\">--------------------------------------</span></center>"
   ]
  },
  {
   "cell_type": "code",
   "execution_count": 35,
   "id": "1d401209-7b05-4cac-b6de-b1e532b7cf4d",
   "metadata": {},
   "outputs": [
    {
     "data": {
      "image/png": "[encoded data removed]",
      "text/plain": [
       "<Figure size 576x360 with 1 Axes>"
      ]
     },
     "metadata": {
      "needs_background": "light"
     },
     "output_type": "display_data"
    }
   ],
   "source": [
    "# set width of bar\n",
    "barWidth = 0.11\n",
    "fig,ax = plt.subplots(figsize =(8, 5))\n",
    "# set height of bar\n",
    "Wo_DA = [float('{0:.4f}'.format(score_res_wo_DA[1])), \n",
    "         float('{0:.4f}'.format(score_model_wo_DA[1])),\n",
    "         float('{0:.4f}'.format(score_mobilenet_wo_DA[1]))]\n",
    "DA = [float('{0:.4f}'.format(score_res_DA[1])), \n",
    "    float('{0:.4f}'.format(score_model_DA[1])), \n",
    "      float('{0:.4f}'.format(score_mobilenet_DA[1])), ]\n",
    "# Set position of bar on X axis\n",
    "br1 = np.arange(len(Wo_DA))\n",
    "br2 = [x + barWidth+0.09 for x in br1]\n",
    "# Make the plot\n",
    "plt.bar(br1, Wo_DA, color ='r', width = barWidth, align='center', edgecolor ='grey', label ='Without DA')\n",
    "plt.bar(br2, DA, color ='g', width = barWidth, align='center', edgecolor ='grey', label ='DA')\n",
    "for bars in ax.containers:\n",
    "    ax.bar_label(bars)\n",
    "# Adding Xticks\n",
    "plt.xlabel('Models', fontweight ='bold', fontsize = 15)\n",
    "plt.ylabel('Accuracy%', fontweight ='bold', fontsize = 15)\n",
    "plt.xticks([r + barWidth for r in range(len(Wo_DA))],['Resnet', 'Custom Model', 'Mobilenet'])\n",
    "\n",
    "plt.legend(loc='lower left')\n",
    "plt.show()"
   ]
  },
  {
   "cell_type": "markdown",
   "id": "801d121c-ad76-4517-a06c-8fb99b5560e5",
   "metadata": {},
   "source": [
    "<center><span style=\"color:blue\"><b>--------------------------------------</b\n",
    "    ></span></center>\n",
    "<center><span style=\"color:blue\"><b>7)Predictions</b\n",
    "    ></span></center>\n",
    "    <center><span style=\"color:blue\">--------------------------------------</span></center>"
   ]
  },
  {
   "cell_type": "code",
   "execution_count": 36,
   "id": "1dcff046-9d28-4caf-bb30-8e10e72d36cd",
   "metadata": {},
   "outputs": [],
   "source": [
    "Mapping_URL = 'https://csci7850-emnist.nyc3.digitaloceanspaces.com/emnist-balanced-mapping.txt'\n",
    "mapping = wget.download(Mapping_URL)\n",
    "map=np.loadtxt(mapping)"
   ]
  },
  {
   "cell_type": "code",
   "execution_count": 40,
   "id": "637b0ea7-227a-4c05-a066-286575c0e3f1",
   "metadata": {},
   "outputs": [
    {
     "name": "stdout",
     "output_type": "stream",
     "text": [
      "predicted= Z\n"
     ]
    },
    {
     "data": {
      "image/png": "[encoded data removed]",
      "text/plain": [
       "<Figure size 432x288 with 1 Axes>"
      ]
     },
     "metadata": {
      "needs_background": "light"
     },
     "output_type": "display_data"
    },
    {
     "name": "stdout",
     "output_type": "stream",
     "text": [
      "predicted= 6\n"
     ]
    },
    {
     "data": {
      "image/png": "[encoded data removed]",
      "text/plain": [
       "<Figure size 432x288 with 1 Axes>"
      ]
     },
     "metadata": {
      "needs_background": "light"
     },
     "output_type": "display_data"
    },
    {
     "name": "stdout",
     "output_type": "stream",
     "text": [
      "predicted= R\n"
     ]
    },
    {
     "data": {
      "image/png": "[encoded data removed]",
      "text/plain": [
       "<Figure size 432x288 with 1 Axes>"
      ]
     },
     "metadata": {
      "needs_background": "light"
     },
     "output_type": "display_data"
    },
    {
     "name": "stdout",
     "output_type": "stream",
     "text": [
      "predicted= 7\n"
     ]
    },
    {
     "data": {
      "image/png": "[encoded data removed]",
      "text/plain": [
       "<Figure size 432x288 with 1 Axes>"
      ]
     },
     "metadata": {
      "needs_background": "light"
     },
     "output_type": "display_data"
    },
    {
     "name": "stdout",
     "output_type": "stream",
     "text": [
      "predicted= t\n"
     ]
    },
    {
     "data": {
      "image/png": "[encoded data removed]",
      "text/plain": [
       "<Figure size 432x288 with 1 Axes>"
      ]
     },
     "metadata": {
      "needs_background": "light"
     },
     "output_type": "display_data"
    },
    {
     "name": "stdout",
     "output_type": "stream",
     "text": [
      "predicted= Y\n"
     ]
    },
    {
     "data": {
      "image/png": "[encoded data removed]",
      "text/plain": [
       "<Figure size 432x288 with 1 Axes>"
      ]
     },
     "metadata": {
      "needs_background": "light"
     },
     "output_type": "display_data"
    },
    {
     "name": "stdout",
     "output_type": "stream",
     "text": [
      "predicted= b\n"
     ]
    },
    {
     "data": {
      "image/png": "[encoded data removed]",
      "text/plain": [
       "<Figure size 432x288 with 1 Axes>"
      ]
     },
     "metadata": {
      "needs_background": "light"
     },
     "output_type": "display_data"
    },
    {
     "name": "stdout",
     "output_type": "stream",
     "text": [
      "predicted= J\n"
     ]
    },
    {
     "data": {
      "image/png": "[encoded data removed]",
      "text/plain": [
       "<Figure size 432x288 with 1 Axes>"
      ]
     },
     "metadata": {
      "needs_background": "light"
     },
     "output_type": "display_data"
    },
    {
     "name": "stdout",
     "output_type": "stream",
     "text": [
      "predicted= P\n"
     ]
    },
    {
     "data": {
      "image/png": "[encoded data removed]",
      "text/plain": [
       "<Figure size 432x288 with 1 Axes>"
      ]
     },
     "metadata": {
      "needs_background": "light"
     },
     "output_type": "display_data"
    },
    {
     "name": "stdout",
     "output_type": "stream",
     "text": [
      "predicted= b\n"
     ]
    },
    {
     "data": {
      "image/png": "[encoded data removed]",
      "text/plain": [
       "<Figure size 432x288 with 1 Axes>"
      ]
     },
     "metadata": {
      "needs_background": "light"
     },
     "output_type": "display_data"
    },
    {
     "name": "stdout",
     "output_type": "stream",
     "text": [
      "predicted= 3\n"
     ]
    },
    {
     "data": {
      "image/png": "[encoded data removed]",
      "text/plain": [
       "<Figure size 432x288 with 1 Axes>"
      ]
     },
     "metadata": {
      "needs_background": "light"
     },
     "output_type": "display_data"
    },
    {
     "name": "stdout",
     "output_type": "stream",
     "text": [
      "predicted= t\n"
     ]
    },
    {
     "data": {
      "image/png": "[encoded data removed]",
      "text/plain": [
       "<Figure size 432x288 with 1 Axes>"
      ]
     },
     "metadata": {
      "needs_background": "light"
     },
     "output_type": "display_data"
    },
    {
     "name": "stdout",
     "output_type": "stream",
     "text": [
      "predicted= q\n"
     ]
    },
    {
     "data": {
      "image/png": "[encoded data removed]",
      "text/plain": [
       "<Figure size 432x288 with 1 Axes>"
      ]
     },
     "metadata": {
      "needs_background": "light"
     },
     "output_type": "display_data"
    },
    {
     "name": "stdout",
     "output_type": "stream",
     "text": [
      "predicted= M\n"
     ]
    },
    {
     "data": {
      "image/png": "[encoded data removed]",
      "text/plain": [
       "<Figure size 432x288 with 1 Axes>"
      ]
     },
     "metadata": {
      "needs_background": "light"
     },
     "output_type": "display_data"
    },
    {
     "name": "stdout",
     "output_type": "stream",
     "text": [
      "predicted= M\n"
     ]
    },
    {
     "data": {
      "image/png": "[encoded data removed]",
      "text/plain": [
       "<Figure size 432x288 with 1 Axes>"
      ]
     },
     "metadata": {
      "needs_background": "light"
     },
     "output_type": "display_data"
    },
    {
     "name": "stdout",
     "output_type": "stream",
     "text": [
      "predicted= M\n"
     ]
    },
    {
     "data": {
      "image/png": "[encoded data removed]",
      "text/plain": [
       "<Figure size 432x288 with 1 Axes>"
      ]
     },
     "metadata": {
      "needs_background": "light"
     },
     "output_type": "display_data"
    },
    {
     "name": "stdout",
     "output_type": "stream",
     "text": [
      "predicted= Q\n"
     ]
    },
    {
     "data": {
      "image/png": "[encoded data removed]",
      "text/plain": [
       "<Figure size 432x288 with 1 Axes>"
      ]
     },
     "metadata": {
      "needs_background": "light"
     },
     "output_type": "display_data"
    },
    {
     "name": "stdout",
     "output_type": "stream",
     "text": [
      "predicted= P\n"
     ]
    },
    {
     "data": {
      "image/png": "[encoded data removed]",
      "text/plain": [
       "<Figure size 432x288 with 1 Axes>"
      ]
     },
     "metadata": {
      "needs_background": "light"
     },
     "output_type": "display_data"
    },
    {
     "name": "stdout",
     "output_type": "stream",
     "text": [
      "predicted= F\n"
     ]
    },
    {
     "data": {
      "image/png": "[encoded data removed]",
      "text/plain": [
       "<Figure size 432x288 with 1 Axes>"
      ]
     },
     "metadata": {
      "needs_background": "light"
     },
     "output_type": "display_data"
    },
    {
     "name": "stdout",
     "output_type": "stream",
     "text": [
      "predicted= f\n"
     ]
    },
    {
     "data": {
      "image/png": "[encoded data removed]",
      "text/plain": [
       "<Figure size 432x288 with 1 Axes>"
      ]
     },
     "metadata": {
      "needs_background": "light"
     },
     "output_type": "display_data"
    }
   ],
   "source": [
    "for im in rn.sample(range(0, 2800), 20):\n",
    "    #print(im)\n",
    "    i=Custom_model.predict(x_test_minmax[im:im+1])\n",
    "    print(\"predicted=\", chr(int(map[np.argmax(i),1])))\n",
    "    plt.imshow(x_test_minmax[im:im+1].reshape(28,28))\n",
    "    plt.show()"
   ]
  },
  {
   "cell_type": "code",
   "execution_count": null,
   "id": "b0da4757-70ad-4736-b5f2-065a055296e7",
   "metadata": {},
   "outputs": [],
   "source": []
  }
 ],
 "metadata": {
  "kernelspec": {
   "display_name": "Python 3 (ipykernel)",
   "language": "python",
   "name": "python3"
  },
  "language_info": {
   "codemirror_mode": {
    "name": "ipython",
    "version": 3
   },
   "file_extension": ".py",
   "mimetype": "text/x-python",
   "name": "python",
   "nbconvert_exporter": "python",
   "pygments_lexer": "ipython3",
   "version": "3.10.5"
  }
 },
 "nbformat": 4,
 "nbformat_minor": 5
}
